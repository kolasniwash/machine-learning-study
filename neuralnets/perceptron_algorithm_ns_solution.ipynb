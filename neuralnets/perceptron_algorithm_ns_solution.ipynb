{
 "cells": [
  {
   "cell_type": "markdown",
   "metadata": {},
   "source": [
    "# Perceptron algorithm (exercise)"
   ]
  },
  {
   "cell_type": "markdown",
   "metadata": {},
   "source": [
    "In this exercise, implement a single neuron (perceptron) that classifies two groups of flowers from the Iris dataset.\n",
    "\n",
    "The data set consists of 50 samples from each of three species of Iris (Iris setosa, Iris virginica and Iris versicolor). Four features were measured from each sample: the length and the width of the sepals and petals, in centimeters. Based on the combination of these four features, a linear discriminant model can be developed to distinguish the species from each other.\n",
    "\n",
    "For the purpose of this exercise, you will only use two features (sepal length and sepal width) of two species of flowers (Setosa and Versicolor).\n",
    "\n",
    "Implemnetation of Minsky and Pepert (1969) learning algorithem."
   ]
  },
  {
   "cell_type": "code",
   "execution_count": null,
   "metadata": {},
   "outputs": [],
   "source": [
    "# allows inline plotting below each cell\n",
    "%matplotlib inline"
   ]
  },
  {
   "cell_type": "code",
   "execution_count": 10,
   "metadata": {},
   "outputs": [],
   "source": [
    "# import necessary libraries \n",
    "import numpy as np\n",
    "import matplotlib.pyplot as plt"
   ]
  },
  {
   "cell_type": "code",
   "execution_count": 333,
   "metadata": {},
   "outputs": [],
   "source": [
    "# write a function that plots data and linear classifier\n",
    "\n",
    "def plot_border(w1, b1, data):\n",
    "    fig = plt.figure(figsize = (6,6))\n",
    "    \n",
    "    plt.scatter(x = data[:,0], y = data[:,1], c=data[:,2])\n",
    "    \n",
    "    x_ticks = np.arange(-2,2)\n",
    "    \n",
    "    #construct the x axis for plotting the line\n",
    "    x_graph =  np.repeat([x_ticks], 2, axis=0)\n",
    "    \n",
    "#     print(\"w {}\".format(w1.shape))\n",
    "    #compute the linear function's datapoints\n",
    "    y_plot = w1 * x_graph\n",
    "    \n",
    "    plt.plot(y_plot[0], y_plot[1])\n",
    "    plt.xticks(np.arange(-2,2.5, 0.5))\n",
    "    plt.yticks(np.arange(-2,2.5, 0.5))\n",
    "    plt.xlim(-2, 2)\n",
    "    plt.ylim(-2,2)\n",
    "    "
   ]
  },
  {
   "cell_type": "code",
   "execution_count": 281,
   "metadata": {},
   "outputs": [],
   "source": [
    "# write a prediction function: 0 for Iris-setosa and 1 for Iris-versicolor\n",
    "def guess_flower(sepal_length, sepal_width):\n",
    "    \"\"\"\n",
    "    Predicts the flower type based on the condition\n",
    "    wx > 0 Type is a 1\n",
    "    wx < 0 Type is a 0\n",
    "    \"\"\"\n",
    "    y_hat = []\n",
    "    \n",
    "    x_flat = np.concatenate((sepal_length, sepal_width), axis=0)\n",
    "\n",
    "    x_pred = np.reshape(x_flat, (int(len(x_flat)/2), 2))\n",
    "    \n",
    "    wx = np.dot(w1.T,x_pred.T)\n",
    "\n",
    "    for i in range(wx.shape[1]):\n",
    "        if wx[:,i] > 0:\n",
    "            y_hat.append(1)\n",
    "        elif wx[:,i] < 0:\n",
    "            y_hat.append(0)\n",
    "    \n",
    "    return np.asarray(y_hat)"
   ]
  },
  {
   "cell_type": "code",
   "execution_count": 257,
   "metadata": {},
   "outputs": [],
   "source": [
    "### load data ###\n",
    "\n",
    "# each point is a tuple (sepal length, sepal width, flower type)\n",
    "# types: 0 for Setosa & 1 for Versicolor\n",
    "training_data = np.asarray([[ 5.1,  3.5,  0 ],\n",
    "       [ 4.9,  3. ,  0 ],\n",
    "       [ 4.7,  3.2,  0 ],\n",
    "       [ 4.6,  3.1,  0 ],\n",
    "       [ 5. ,  3.6,  0 ],\n",
    "       [ 5.4,  3.9,  0 ],\n",
    "       [ 4.6,  3.4,  0 ],\n",
    "       [ 5. ,  3.4,  0 ],\n",
    "       [ 4.4,  2.9,  0 ],\n",
    "       [ 4.9,  3.1,  0 ],\n",
    "       [ 5.4,  3.7,  0 ],\n",
    "       [ 4.8,  3.4,  0 ],\n",
    "       [ 4.8,  3. ,  0 ],\n",
    "       [ 4.3,  3. ,  0 ],\n",
    "       [ 5.8,  4. ,  0 ],\n",
    "       [ 5.7,  4.4,  0 ],\n",
    "       [ 5.4,  3.9,  0 ],\n",
    "       [ 5.1,  3.5,  0 ],\n",
    "       [ 5.7,  3.8,  0 ],\n",
    "       [ 5.1,  3.8,  0 ],\n",
    "       [ 7. ,  3.2,  1 ],\n",
    "       [ 6.4,  3.2,  1 ],\n",
    "       [ 6.9,  3.1,  1 ],\n",
    "       [ 5.5,  2.3,  1 ],\n",
    "       [ 6.5,  2.8,  1 ],\n",
    "       [ 5.7,  2.8,  1 ],\n",
    "       [ 6.3,  3.3,  1 ],\n",
    "       [ 4.9,  2.4,  1 ],\n",
    "       [ 6.6,  2.9,  1 ],\n",
    "       [ 5.2,  2.7,  1 ],\n",
    "       [ 5. ,  2. ,  1 ],\n",
    "       [ 5.9,  3. ,  1 ],\n",
    "       [ 6. ,  2.2,  1 ],\n",
    "       [ 6.1,  2.9,  1 ],\n",
    "       [ 5.6,  2.9,  1 ],\n",
    "       [ 6.7,  3.1,  1 ],\n",
    "       [ 5.6,  3. ,  1 ],\n",
    "       [ 5.8,  2.7,  1 ],\n",
    "       [ 6.2,  2.2,  1 ],\n",
    "       [ 5.6,  2.5,  1 ],\n",
    "       [ 5.9,  3.2,  1 ],\n",
    "       [ 6.1,  2.8,  1 ],\n",
    "       [ 6.3,  2.5,  1 ],\n",
    "       [ 6.1,  2.8,  1 ],\n",
    "       [ 6.4,  2.9,  1 ]])\n",
    "\n",
    "test_data = np.asarray([[ 5.4,  3.4,  0. ],\n",
    "           [ 4.6,  3.6,  0. ],\n",
    "           [ 5.1,  3.3,  0. ],\n",
    "           [ 4.8,  3.4,  0. ],\n",
    "           [ 5. ,  3. ,  0. ],\n",
    "           [ 5. ,  3.4,  0. ],\n",
    "           [ 5.2,  3.5,  0. ],\n",
    "           [ 5.2,  3.4,  0. ],\n",
    "           [ 4.7,  3.2,  0. ],\n",
    "           [ 4.8,  3.1,  0. ],\n",
    "           [ 5.4,  3.4,  0. ],\n",
    "           [ 5.2,  4.1,  0. ],\n",
    "           [ 5.5,  4.2,  0. ],\n",
    "           [ 4.9,  3.1,  0. ],\n",
    "           [ 5. ,  3.2,  0. ],\n",
    "           [ 5.5,  3.5,  0. ],\n",
    "           [ 4.9,  3.1,  0. ],\n",
    "           [ 4.4,  3. ,  0. ],\n",
    "           [ 5.1,  3.4,  0. ],\n",
    "           [ 5. ,  3.5,  0. ],\n",
    "           [ 4.5,  2.3,  0. ],\n",
    "           [ 4.4,  3.2,  0. ],\n",
    "           [ 5. ,  3.5,  0. ],\n",
    "           [ 5.1,  3.8,  0. ],\n",
    "           [ 4.8,  3. ,  0. ],\n",
    "           [ 5.1,  3.8,  0. ],\n",
    "           [ 4.6,  3.2,  0. ],\n",
    "           [ 5.3,  3.7,  0. ],\n",
    "           [ 5. ,  3.3,  0. ],\n",
    "           [ 6.8,  2.8,  1. ],\n",
    "           [ 6.7,  3. ,  1. ],\n",
    "           [ 6. ,  2.9,  1. ],\n",
    "           [ 5.7,  2.6,  1. ],\n",
    "           [ 5.5,  2.4,  1. ],\n",
    "           [ 5.5,  2.4,  1. ],\n",
    "           [ 5.8,  2.7,  1. ],\n",
    "           [ 6. ,  2.7,  1. ],\n",
    "           [ 5.4,  3. ,  1. ],\n",
    "           [ 6. ,  3.4,  1. ],\n",
    "           [ 6.7,  3.1,  1. ],\n",
    "           [ 6.3,  2.3,  1. ],\n",
    "           [ 5.6,  3. ,  1. ],\n",
    "           [ 5.5,  2.5,  1. ],\n",
    "           [ 5.5,  2.6,  1. ],\n",
    "           [ 6.1,  3. ,  1. ],\n",
    "           [ 5.8,  2.6,  1. ],\n",
    "           [ 5. ,  2.3,  1. ],\n",
    "           [ 5.6,  2.7,  1. ],\n",
    "           [ 5.7,  3. ,  1. ],\n",
    "           [ 5.7,  2.9,  1. ],\n",
    "           [ 6.2,  2.9,  1. ],\n",
    "           [ 5.1,  2.5,  1. ],\n",
    "           [ 5.7,  2.8,  1. ]])\n",
    "\n"
   ]
  },
  {
   "cell_type": "code",
   "execution_count": 258,
   "metadata": {},
   "outputs": [
    {
     "data": {
      "text/plain": [
       "<matplotlib.collections.PathCollection at 0x1a236e8e48>"
      ]
     },
     "execution_count": 258,
     "metadata": {},
     "output_type": "execute_result"
    },
    {
     "data": {
      "image/png": "[encoded data removed]",
      "text/plain": [
       "<Figure size 432x432 with 1 Axes>"
      ]
     },
     "metadata": {
      "needs_background": "light"
     },
     "output_type": "display_data"
    }
   ],
   "source": [
    "### visualize training data in 2D ###\n",
    "\n",
    "# x-axis: sepal length, y-axis: sepl width\n",
    "# use 2 colors to visualize 2 different classes of data \n",
    "\n",
    "fig = plt.figure(figsize = (6,6))\n",
    "    \n",
    "plt.scatter(x = training_data[:,0], y = training_data[:,1], c=training_data[:,2])\n"
   ]
  },
  {
   "cell_type": "code",
   "execution_count": 259,
   "metadata": {},
   "outputs": [],
   "source": [
    "#normalize and centre data on zero\n",
    "from sklearn.preprocessing import StandardScaler\n",
    "scaler = StandardScaler()\n",
    "scaler.fit(training_data[:,:2])\n",
    "training_data[:,:2] = scaler.transform(training_data[:,:2])"
   ]
  },
  {
   "cell_type": "code",
   "execution_count": 336,
   "metadata": {
    "scrolled": false
   },
   "outputs": [
    {
     "data": {
      "image/png": "[encoded data removed]",
      "text/plain": [
       "<Figure size 432x432 with 1 Axes>"
      ]
     },
     "metadata": {
      "needs_background": "light"
     },
     "output_type": "display_data"
    }
   ],
   "source": [
    "# training loop ###\n",
    "n_iterations = 5000\n",
    "#np.random.seed(42)\n",
    "# initialize weights (set bias to zero)\n",
    "w1 = np.random.rand(2,1)\n",
    "b1 = 0\n",
    "# write a loop of arbitrary n iterations\n",
    "for n in range(n_iterations):\n",
    "    x_rand_idx = np.random.randint(0, m_train)\n",
    "\n",
    "    x = np.reshape(training_data[x_rand_idx, :2], (1,2))\n",
    "    x_y_hat = int(training_data[x_rand_idx, 2])\n",
    "    \n",
    "    wx = np.dot(w.T,x.T)\n",
    "    \n",
    "    if (x_y_hat == 1) and (wx < 0):\n",
    "        #print('yes')\n",
    "        w1 += x.T\n",
    "    elif (x_y_hat == 0) and (wx > 0):\n",
    "        #print('no')\n",
    "        w1 -= x.T\n",
    "    #plot_border(w1,b1,training_data)\n",
    "\n",
    "# print('w {}'.format(w1.shape))\n",
    "# print('x {}'.format(x.shape))\n",
    "\n",
    "plot_border(w1,b1,training_data)\n",
    "\n",
    "# update the weights by randomly selecting a point from the training dataset  \n",
    "# plot the result after each iteration, and the final result"
   ]
  },
  {
   "cell_type": "code",
   "execution_count": null,
   "metadata": {},
   "outputs": [],
   "source": [
    "test_data[:,:2] = scaler.transform(test_data[:,:2])"
   ]
  },
  {
   "cell_type": "code",
   "execution_count": 310,
   "metadata": {},
   "outputs": [
    {
     "data": {
      "text/plain": [
       "array([1, 1, 1, 1, 1, 1, 1, 1, 1, 1, 1, 1, 1, 1, 0, 0, 1, 0, 1, 0, 0, 1,\n",
       "       0, 1, 0, 1, 0, 0, 1, 0, 0, 0, 0, 0, 0, 0, 1, 0, 1, 0, 0, 1, 1, 1,\n",
       "       1, 0, 1, 1, 1, 1, 1, 1, 1])"
      ]
     },
     "execution_count": 310,
     "metadata": {},
     "output_type": "execute_result"
    }
   ],
   "source": [
    "### evaluation ###\n",
    "\n",
    "sepal_length = test_data[:, 0]\n",
    "sepal_width = test_data[:, 1]\n",
    "\n",
    "# # perform prediction on the test dataset\n",
    "predictions = guess_flower(sepal_length, sepal_width)\n",
    "predictions"
   ]
  },
  {
   "cell_type": "code",
   "execution_count": 311,
   "metadata": {},
   "outputs": [
    {
     "name": "stdout",
     "output_type": "stream",
     "text": [
      "Algorithem accuracy is 41.51 percent\n"
     ]
    }
   ],
   "source": [
    "#evaluate the results by accruacy\n",
    "\n",
    "is_correct = np.where(predictions==test_data[:,2], 1, 0)\n",
    "\n",
    "accuracy = np.sum(is_correct) / len(test_data)\n",
    "print('Algorithem accuracy is %3.2f percent' % (accuracy*100))"
   ]
  },
  {
   "cell_type": "code",
   "execution_count": 312,
   "metadata": {},
   "outputs": [
    {
     "data": {
      "image/png": "[encoded data removed]",
      "text/plain": [
       "<Figure size 432x432 with 1 Axes>"
      ]
     },
     "metadata": {
      "needs_background": "light"
     },
     "output_type": "display_data"
    }
   ],
   "source": [
    "evaluated_predictions = test_data.copy()\n",
    "evaluated_predictions[:,2] = predictions\n",
    "\n",
    "### plot the evaluation result ###\n",
    "plot_border(w1, b1, evaluated_predictions)"
   ]
  },
  {
   "cell_type": "code",
   "execution_count": null,
   "metadata": {},
   "outputs": [],
   "source": []
  }
 ],
 "metadata": {
  "kernelspec": {
   "display_name": "Python 3",
   "language": "python",
   "name": "python3"
  },
  "language_info": {
   "codemirror_mode": {
    "name": "ipython",
    "version": 3
   },
   "file_extension": ".py",
   "mimetype": "text/x-python",
   "name": "python",
   "nbconvert_exporter": "python",
   "pygments_lexer": "ipython3",
   "version": "3.6.8"
  }
 },
 "nbformat": 4,
 "nbformat_minor": 2
}
